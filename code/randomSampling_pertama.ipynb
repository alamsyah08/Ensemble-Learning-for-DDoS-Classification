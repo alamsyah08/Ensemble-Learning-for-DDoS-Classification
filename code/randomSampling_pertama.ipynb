{
 "cells": [
  {
   "cell_type": "code",
   "execution_count": 1,
   "id": "c80b1665",
   "metadata": {},
   "outputs": [],
   "source": [
    "# Base Libraries\n",
    "import numpy as np\n",
    "import pandas as pd\n",
    "import matplotlib.pyplot as plt\n",
    "from matplotlib.pyplot import figure\n",
    "import glob\n",
    "from collections import defaultdict\n"
   ]
  },
  {
   "cell_type": "code",
   "execution_count": 2,
   "id": "39eeb44c",
   "metadata": {},
   "outputs": [
    {
     "name": "stdout",
     "output_type": "stream",
     "text": [
      "['D:/J/EnsembleAsli/CICDDoS-Real/CSV-01-12/01-12\\\\DrDoS_DNS.csv', 'D:/J/EnsembleAsli/CICDDoS-Real/CSV-01-12/01-12\\\\DrDoS_LDAP.csv', 'D:/J/EnsembleAsli/CICDDoS-Real/CSV-01-12/01-12\\\\DrDoS_MSSQL.csv', 'D:/J/EnsembleAsli/CICDDoS-Real/CSV-01-12/01-12\\\\DrDoS_NetBIOS.csv', 'D:/J/EnsembleAsli/CICDDoS-Real/CSV-01-12/01-12\\\\DrDoS_NTP.csv', 'D:/J/EnsembleAsli/CICDDoS-Real/CSV-01-12/01-12\\\\DrDoS_SNMP.csv', 'D:/J/EnsembleAsli/CICDDoS-Real/CSV-01-12/01-12\\\\DrDoS_SSDP.csv', 'D:/J/EnsembleAsli/CICDDoS-Real/CSV-01-12/01-12\\\\DrDoS_UDP.csv', 'D:/J/EnsembleAsli/CICDDoS-Real/CSV-01-12/01-12\\\\Syn.csv', 'D:/J/EnsembleAsli/CICDDoS-Real/CSV-01-12/01-12\\\\TFTP.csv', 'D:/J/EnsembleAsli/CICDDoS-Real/CSV-01-12/01-12\\\\UDPLag.csv']\n"
     ]
    }
   ],
   "source": [
    "csv_files = glob.glob('D:/J/EnsembleAsli/CICDDoS-Real/CSV-01-12/01-12/*.csv')\n",
    "selected_files = csv_files[:]\n",
    "print(selected_files)"
   ]
  },
  {
   "cell_type": "code",
   "execution_count": null,
   "id": "431be1cf",
   "metadata": {},
   "outputs": [
    {
     "name": "stdout",
     "output_type": "stream",
     "text": [
      "Processing file: D:/J/EnsembleAsli/CICDDoS-Real/CSV-01-12/01-12\\DrDoS_DNS.csv\n",
      "Processing file: D:/J/EnsembleAsli/CICDDoS-Real/CSV-01-12/01-12\\DrDoS_LDAP.csv\n",
      "Processing file: D:/J/EnsembleAsli/CICDDoS-Real/CSV-01-12/01-12\\DrDoS_MSSQL.csv\n",
      "Processing file: D:/J/EnsembleAsli/CICDDoS-Real/CSV-01-12/01-12\\DrDoS_NetBIOS.csv\n",
      "Processing file: D:/J/EnsembleAsli/CICDDoS-Real/CSV-01-12/01-12\\DrDoS_NTP.csv\n",
      "Processing file: D:/J/EnsembleAsli/CICDDoS-Real/CSV-01-12/01-12\\DrDoS_SNMP.csv\n",
      "Processing file: D:/J/EnsembleAsli/CICDDoS-Real/CSV-01-12/01-12\\DrDoS_SSDP.csv\n",
      "Processing file: D:/J/EnsembleAsli/CICDDoS-Real/CSV-01-12/01-12\\DrDoS_UDP.csv\n",
      "Processing file: D:/J/EnsembleAsli/CICDDoS-Real/CSV-01-12/01-12\\Syn.csv\n",
      "Processing file: D:/J/EnsembleAsli/CICDDoS-Real/CSV-01-12/01-12\\TFTP.csv\n",
      "Processing file: D:/J/EnsembleAsli/CICDDoS-Real/CSV-01-12/01-12\\UDPLag.csv\n",
      "(600439, 88)\n"
     ]
    }
   ],
   "source": [
    "label_limit = 50000  # jumlah maksimum per label\n",
    "label_counts = defaultdict(int)\n",
    "df_list = []\n",
    "\n",
    "for file in selected_files:\n",
    "    print(f\"Processing file: {file}\")\n",
    "    \n",
    "    # Baca seluruh isi file tanpa chunk\n",
    "    df = pd.read_csv(file, low_memory=False)\n",
    "    \n",
    "    # Acak data agar setiap baris punya peluang sama\n",
    "    df = df.sample(frac=1, random_state=42).reset_index(drop=True)\n",
    "    \n",
    "    # Filter baris yang belum mencapai batas jumlah per label\n",
    "    filtered_df = df[df[' Label'].apply(lambda label: label_counts[label] < label_limit)]\n",
    "\n",
    "    # Update counter dan simpan data\n",
    "    for label in filtered_df[' Label'].unique():\n",
    "        count_in_df = (filtered_df[' Label'] == label).sum()\n",
    "        remaining = label_limit - label_counts[label]\n",
    "        take = min(count_in_df, remaining)\n",
    "        if take > 0:\n",
    "            selected_rows = filtered_df[filtered_df[' Label'] == label].head(take)\n",
    "            df_list.append(selected_rows)\n",
    "            label_counts[label] += take\n",
    "\n",
    "# Gabungkan semua data\n",
    "combined_df = pd.concat(df_list, ignore_index=True)\n",
    "print(combined_df.shape)"
   ]
  },
  {
   "cell_type": "code",
   "execution_count": 4,
   "id": "a83aeaba",
   "metadata": {},
   "outputs": [
    {
     "data": {
      "text/plain": [
       " Label\n",
       "DrDoS_DNS        50000\n",
       "BENIGN           50000\n",
       "DrDoS_LDAP       50000\n",
       "DrDoS_MSSQL      50000\n",
       "DrDoS_NetBIOS    50000\n",
       "DrDoS_NTP        50000\n",
       "DrDoS_SNMP       50000\n",
       "DrDoS_SSDP       50000\n",
       "DrDoS_UDP        50000\n",
       "Syn              50000\n",
       "TFTP             50000\n",
       "UDP-lag          50000\n",
       "WebDDoS            439\n",
       "Name: count, dtype: int64"
      ]
     },
     "execution_count": 4,
     "metadata": {},
     "output_type": "execute_result"
    }
   ],
   "source": [
    "combined_df[' Label'].value_counts()"
   ]
  },
  {
   "cell_type": "code",
   "execution_count": null,
   "id": "e0b97dee",
   "metadata": {},
   "outputs": [],
   "source": [
    "# Buang kelas yang tidak termasuk (WebDDoS)\n",
    "combined_df = combined_df[combined_df[' Label'] != 'WebDDoS']"
   ]
  },
  {
   "cell_type": "code",
   "execution_count": 5,
   "id": "7a4876b6",
   "metadata": {},
   "outputs": [
    {
     "name": "stdout",
     "output_type": "stream",
     "text": [
      "File saved as RandomSampling_cicddos2019.csv\n"
     ]
    }
   ],
   "source": [
    "# Simpan ke CSV\n",
    "combined_df.to_csv('RandomSampling_cicddos2019.csv', index=False)\n",
    "print(\"File saved as RandomSampling_cicddos2019.csv\")"
   ]
  }
 ],
 "metadata": {
  "kernelspec": {
   "display_name": "Python 3",
   "language": "python",
   "name": "python3"
  },
  "language_info": {
   "codemirror_mode": {
    "name": "ipython",
    "version": 3
   },
   "file_extension": ".py",
   "mimetype": "text/x-python",
   "name": "python",
   "nbconvert_exporter": "python",
   "pygments_lexer": "ipython3",
   "version": "3.12.4"
  }
 },
 "nbformat": 4,
 "nbformat_minor": 5
}
